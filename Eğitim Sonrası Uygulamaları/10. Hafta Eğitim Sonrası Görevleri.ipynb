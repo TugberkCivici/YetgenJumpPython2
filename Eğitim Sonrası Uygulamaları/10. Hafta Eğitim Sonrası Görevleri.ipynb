{
 "cells": [
  {
   "attachments": {},
   "cell_type": "markdown",
   "metadata": {},
   "source": [
    "# Problem 1 "
   ]
  },
  {
   "cell_type": "code",
   "execution_count": null,
   "metadata": {},
   "outputs": [],
   "source": [
    "# 1 - numpy kütüphanesini import edin\n",
    "\n",
    "# 2 - 5 elemanlı bir numpy array oluşturun\n",
    "\n",
    "# 3 - Oluşturduğunuz arrayi küçükten büyüğe sıralayın.\n"
   ]
  },
  {
   "cell_type": "code",
   "execution_count": 1,
   "metadata": {},
   "outputs": [
    {
     "ename": "ModuleNotFoundError",
     "evalue": "No module named 'numpy'",
     "output_type": "error",
     "traceback": [
      "\u001b[1;31m---------------------------------------------------------------------------\u001b[0m",
      "\u001b[1;31mModuleNotFoundError\u001b[0m                       Traceback (most recent call last)",
      "Cell \u001b[1;32mIn[1], line 2\u001b[0m\n\u001b[0;32m      1\u001b[0m \u001b[39m# 1 - numpy kütüphanesini import edin\u001b[39;00m\n\u001b[1;32m----> 2\u001b[0m \u001b[39mimport\u001b[39;00m \u001b[39mnumpy\u001b[39;00m \u001b[39mas\u001b[39;00m \u001b[39mnp\u001b[39;00m\n\u001b[0;32m      3\u001b[0m \u001b[39m# 2 - 5 elemanlı bir numpy array oluşturun\u001b[39;00m\n\u001b[0;32m      4\u001b[0m myArray \u001b[39m=\u001b[39m np\u001b[39m.\u001b[39marray([\u001b[39m2\u001b[39m,\u001b[39m3\u001b[39m,\u001b[39m4\u001b[39m,\u001b[39m5\u001b[39m,\u001b[39m1\u001b[39m])\n",
      "\u001b[1;31mModuleNotFoundError\u001b[0m: No module named 'numpy'"
     ]
    }
   ],
   "source": [
    "# 1 - numpy kütüphanesini import edin\n",
    "import numpy as np\n",
    "# 2 - 5 elemanlı bir numpy array oluşturun\n",
    "myArray = np.array([2,3,4,5,1])\n",
    "# 3 - Oluşturduğunuz arrayi küçükten büyüğe sıralayın.\n",
    "myArray.sort()\n",
    "myArray\n"
   ]
  },
  {
   "attachments": {},
   "cell_type": "markdown",
   "metadata": {},
   "source": [
    "# Problem 2"
   ]
  },
  {
   "cell_type": "code",
   "execution_count": null,
   "metadata": {},
   "outputs": [],
   "source": [
    "# 1- (10,15,30,45,60) değerlerine sahip numpy dizisi oluşturunuz.\n",
    "\n",
    "\n",
    "# 2- (5-15) arasındaki sayılarla numpy dizisi oluşturunuz.\n",
    " \n",
    "# 3- (50-100) arasında 5'er 5'er artarak numpy dizisi oluşturunuz.\n",
    "\n",
    "\n",
    "# 4- 10 elemanlı sıfırlardan oluşan bir dizi oluşturunuz.\n",
    "\n",
    "\n",
    "# 5- 10 elemanlı birlerden oluşan bir dizi oluşturunuz.\n",
    "\n",
    "\n",
    "# 6- (0-100) arasında eşit aralıklı 5 sayı üretin.\n",
    "\n",
    "\n",
    "# 7- (10-30) arasında rastgele 5 tane tamsayı üretin.\n",
    "\n",
    "\n",
    "# 8- [-1 ile 1] arasında 10 adet sayı üretin.\n",
    "\n",
    "\n",
    "# 9- (3x5) boyutlarında (10-50) arasında rastgele bir matris oluşturunuz.\n",
    "\n",
    "\n",
    "# 10- Üretilen matrisin satır ve sütun sayıları toplamlarını hesaplayınız ?\n",
    "\n",
    "\n",
    "# 11- Üretilen matrisin en büyük, en küçük ve ortalaması nedir ?\n",
    "\n",
    "\n",
    "# 12- Üretilen matrisin en büyük değerinin indeksi kaçtır ?\n",
    "\n",
    "\n",
    "# 13- (10-20) arasındaki sayıları içeren dizinin ilk 3 elemanını seçiniz.\n",
    "\n",
    "\n",
    "# 14- Üretilen dizinin elemanlarını tersten yazdırın.\n",
    "\n",
    "\n",
    "# 15- Üretilen matrisin ilk satırını seçiniz.\n",
    "\n",
    "\n",
    "# 16- Üretilen matrisin 2.satır 3.sütundaki elemanı hangisidir ?\n",
    "\n",
    "\n",
    "# 17- Üretilen matrisin tüm satırlardaki ilk elemanı seçiniz.\n",
    "\n",
    "\n",
    "# 18- Üretilen matrisin her bir elemanının karesini alınız.\n",
    "\n",
    "\n",
    "# 19- Üretilen matris elemanlarının hangisi pozitif çift sayıdır ? Aralığı (-50,+50) arasında yapınız.\n"
   ]
  },
  {
   "cell_type": "code",
   "execution_count": null,
   "metadata": {},
   "outputs": [],
   "source": [
    "# 1- (10,15,30,45,60) değerlerine sahip numpy dizisi oluşturunuz.\n",
    "array = np.array([10,15,30,45,60])\n",
    "print(array)\n",
    "# 2- (5-15) arasındaki sayılarla numpy dizisi oluşturunuz.\n",
    "array2 = np.arange(5,15)\n",
    "print(array2)\n",
    "# 3- (50-100) arasında 5'er 5'er artarak numpy dizisi oluşturunuz.\n",
    "array3 = np.arange(50,100,5)\n",
    "print(array3)\n",
    "# 4- 10 elemanlı sıfırlardan oluşan bir dizi oluşturunuz.\n",
    "array4 = np.zeros(10)\n",
    "print(array4)\n",
    "# 5- 10 elemanlı birlerden oluşan bir dizi oluşturunuz.\n",
    "array5 = np.ones(10)\n",
    "print(array5)\n",
    "# 6- (0-100) arasında eşit aralıklı 5 sayı üretin.\n",
    "array6 = np.linspace(0,100,5)\n",
    "print(array6)\n",
    "# 7- (10-30) arasında rastgele 5 tane tamsayı üretin.\n",
    "array7 = np.random.randint(10,30,5)\n",
    "print(array7)\n",
    "# 8- [-1 ile 1] arasında 10 adet sayı üretin.\n",
    "array8 = np.random.uniform(-1,1,10)\n",
    "print(array8)\n",
    "# 9- (3x5) boyutlarında (10-50) arasında rastgele bir matris oluşturunuz.\n",
    "array9 = np.random.randint(10,50,(3,5))\n",
    "print(array9)\n",
    "# 10- Üretilen matrisin satır ve sütun sayıları toplamlarını hesaplayınız ?\n",
    "print(array9.sum(axis=0))\n",
    "print(array9.sum(axis=1))\n",
    "# 11- Üretilen matrisin en büyük, en küçük ve ortalaması nedir ?\n",
    "print(array9.max())\n",
    "print(array9.min())\n",
    "print(array9.mean())\n",
    "# 12- Üretilen matrisin en büyük değerinin indeksi kaçtır ?\n",
    "print(array9.argmax())\n",
    "# 13- (10-20) arasındaki sayıları içeren dizinin ilk 3 elemanını seçiniz.\n",
    "array13 = np.arange(10,20)\n",
    "print(array13[:3])\n",
    "# 14- Üretilen dizinin elemanlarını tersten yazdırın.\n",
    "print(array13[::-1])\n",
    "# 15- Üretilen matrisin ilk satırını seçiniz.\n",
    "print(array9[0,:5])\n",
    "# 16- Üretilen matrisin 2.satır 3.sütundaki elemanı hangisidir ?\n",
    "print(array9[1,2])\n",
    "# 17- Üretilen matrisin tüm satırlardaki ilk elemanı seçiniz.\n",
    "print(array9[:3,0])\n",
    "# 18- Üretilen matrisin her bir elemanının karesini alınız.\n",
    "print(array9**2)\n",
    "# 19- Üretilen matris elemanlarının hangisi pozitif çift sayıdır ? Aralığı (-50,+50) arasında yapınız.\n",
    "array10 = np.random.randint(-50,50,(3,5))\n",
    "pozCift = []\n",
    "\n",
    "for a in range(array10.shape[0]):\n",
    "    for b in range(array10.shape[1]):\n",
    "        if array10[a,b] > 0 and array10[a,b] % 2 == 0:\n",
    "            pozCift.append(array10[a,b])\n",
    "print(array10)\n",
    "print(pozCift) "
   ]
  }
 ],
 "metadata": {
  "kernelspec": {
   "display_name": "Python 3",
   "language": "python",
   "name": "python3"
  },
  "language_info": {
   "codemirror_mode": {
    "name": "ipython",
    "version": 3
   },
   "file_extension": ".py",
   "mimetype": "text/x-python",
   "name": "python",
   "nbconvert_exporter": "python",
   "pygments_lexer": "ipython3",
   "version": "3.11.1"
  },
  "orig_nbformat": 4,
  "vscode": {
   "interpreter": {
    "hash": "5026d2d6e7aaaaba093def813beadff083d8733e4a511af01735cbabd156995d"
   }
  }
 },
 "nbformat": 4,
 "nbformat_minor": 2
}
