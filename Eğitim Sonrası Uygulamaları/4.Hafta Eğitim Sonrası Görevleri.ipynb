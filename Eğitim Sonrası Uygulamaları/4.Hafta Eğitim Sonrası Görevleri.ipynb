{
 "cells": [
  {
   "cell_type": "markdown",
   "metadata": {},
   "source": [
    "# Problem 1\n",
    "`ogrenciler` adında bir sözlük oluşturunuz. Kullanıcıdan döngü yardımıyla 3 öğrenci için veri girmesini isteyerek öğrencilerin sırasıyla okul numarası, isim, soy isim, telefon numarası ve doğum tarihi bilgilerini alınız. Aldığınız öğrenci bilgilerini yine aynı döngü yardımıyla `ogrenciler` adındaki sözlükte saklayınız. Daha sonra öğrenci bilgilerinin bulunduğu sözlük yapısını ekrana bastırınız.\n",
    "\n"
   ]
  },
  {
   "cell_type": "code",
   "execution_count": 32,
   "metadata": {},
   "outputs": [
    {
     "name": "stdout",
     "output_type": "stream",
     "text": [
      "Öğrenci hakkında bilgi girin: 1:\n",
      "Öğrenci hakkında bilgi girin: 2:\n",
      "Öğrenci hakkında bilgi girin: 3:\n",
      "Sözlük: \n",
      "{'bilgi 1': {'İsim': '', 'Soyisim': '', 'Okul Numarası': '', 'Telefon Numarası': '', 'Doğum Tarihi': ''}, 'bilgi 2': {'İsim': '', 'Soyisim': '', 'Okul Numarası': '', 'Telefon Numarası': '', 'Doğum Tarihi': ''}, 'bilgi 3': {'İsim': '', 'Soyisim': '', 'Okul Numarası': '', 'Telefon Numarası': '', 'Doğum Tarihi': ''}}\n"
     ]
    }
   ],
   "source": [
    "\n",
    "ogrenciler = {} # define an empty dictionary\n",
    "\n",
    "for x in range(3):\n",
    "    print(f\"Öğrenci hakkında bilgi girin: {x+1}:\")\n",
    "    isim = input(\"İsim: \")\n",
    "    soyisim = input(\"Soyisim: \")\n",
    "    okulNo = input(\"Okul Numarası: \")\n",
    "    tel = input(\"Telefon Numarası: \")\n",
    "    dgm = input(\"Doğum Tarihi: \")\n",
    "    bilgi = {'İsim': isim, 'Soyisim': soyisim, 'Okul Numarası': okulNo, 'Telefon Numarası':tel, 'Doğum Tarihi':dgm }\n",
    "    ogrenciler[f'bilgi {x+1}'] = bilgi \n",
    "\n",
    "print(\"Sözlük: \")\n",
    "print(ogrenciler)\n"
   ]
  },
  {
   "cell_type": "markdown",
   "metadata": {},
   "source": [
    "# Problem 2\n",
    "\n",
    "### a - Biraz ısınarak başlayalım!\n",
    "\n",
    "```\n",
    "numbers = [5,10,10,15,15,15,20,20,20,20]\n",
    "```\n",
    "\n",
    "Yukarıda `numbers` adında 10 elemanlı bir liste verilmiştir. Bu listenin her elemanını kontrol eden ve tekrar eden elemanları bir kez olacak şekilde başka bir listeye kopyalayan bir program yazınız. Son olarak oluşturduğunuz listeyi ekrana bastırınız.\n",
    "\n",
    "\n",
    "\n",
    "\n",
    "```\n",
    ">Output\n",
    "[5, 10, 15, 20]\n",
    "```\n"
   ]
  },
  {
   "cell_type": "code",
   "execution_count": 34,
   "metadata": {},
   "outputs": [
    {
     "data": {
      "text/plain": [
       "[5, 10, 15, 20]"
      ]
     },
     "execution_count": 34,
     "metadata": {},
     "output_type": "execute_result"
    }
   ],
   "source": [
    "sayılar = [5, 10, 10, 15, 15, 15, 20, 20, 20, 20]\n",
    "\n",
    "sadeListe = []\n",
    "for sayı in sayılar:\n",
    "    if sayı not in sadeListe:\n",
    "        sadeListe.append(sayı)\n",
    "\n",
    "print(sadeListe)\n",
    "\n",
    "\n",
    "\n",
    "[5, 10, 15, 20]"
   ]
  },
  {
   "cell_type": "markdown",
   "metadata": {},
   "source": [
    "### 🌶️ b) Hadi işi biraz daha zorlaştıralım! \n",
    "\n",
    "\n",
    "Şimdiyse senden `numbers` isimli listedeki tekrar eden elemanları `repeatNumbers` adındaki listeye; tekrar etmeyen elemanları `uniqueNumbers`adındaki listeye kopyalayan yazmanı ve listeleri ekrana bastırmanı bekliyoruz\n",
    "\n",
    "```\n",
    ">Output\n",
    "Tekrar Eden Elemanlar: [10, 10, 15, 15, 15, 20, 20, 20, 20]\n",
    "Tekrar Etmeyen Elemanlar: [5]\n",
    "```"
   ]
  },
  {
   "cell_type": "code",
   "execution_count": 35,
   "metadata": {},
   "outputs": [
    {
     "name": "stdout",
     "output_type": "stream",
     "text": [
      "Repeat: [10, 15, 15, 20, 20, 20]\n",
      "Unique: [5, 10, 15, 20]\n"
     ]
    }
   ],
   "source": [
    "numbers = [5, 10, 10, 15, 15, 15, 20, 20, 20, 20]\n",
    "\n",
    "unique = []\n",
    "repeat = []\n",
    "\n",
    "for number in numbers:\n",
    "    if number in unique:\n",
    "        repeat.append(number)\n",
    "    else:\n",
    "        unique.append(number)\n",
    "\n",
    "print(\"Repeat:\", repeat)\n",
    "print(\"Unique:\", unique)\n",
    "\n",
    "\n"
   ]
  },
  {
   "cell_type": "markdown",
   "metadata": {},
   "source": [
    "# Problem 3\n",
    "sn1 = {1,2,3,4,5}\n",
    "\n",
    "sn2 = {4,5,6,7,8}\n",
    "\n",
    " Verilen 2 adet küme için kesişimlerini, farklarını ve birleşimlerini bulunuz. "
   ]
  },
  {
   "cell_type": "code",
   "execution_count": 36,
   "metadata": {},
   "outputs": [
    {
     "name": "stdout",
     "output_type": "stream",
     "text": [
      "Kesişim: {4, 5}\n",
      "Fark: {1, 2, 3}\n",
      "Birleşim: {1, 2, 3, 4, 5, 6, 7, 8}\n"
     ]
    }
   ],
   "source": [
    "sn1 = {1, 2, 3, 4, 5}\n",
    "sn2 = {4, 5, 6, 7, 8}\n",
    "\n",
    "kesişim = sn1.intersection(sn2)\n",
    "print(\"Kesişim:\", kesişim)\n",
    "\n",
    "fark = sn1.difference(sn2)\n",
    "print(\"Fark:\", fark)\n",
    "\n",
    "birleşim = sn1.union(sn2)\n",
    "print(\"Birleşim:\", birleşim)\n",
    "\n",
    "\n"
   ]
  },
  {
   "cell_type": "markdown",
   "metadata": {},
   "source": [
    "# Problem 4\n",
    "\n",
    "Buradaki işlemlerimizin tamamı stringler içindir. Aşağıda verilecek olan metodlar için kendinizin örnek yaratması gerekmektedir. \n",
    "\n",
    "Örneğin `upper` için `string` değişkeni oluştururken` k = \"BAC\"` şeklinde oluşturmayınız. Bunun yerine k değişkenini `k = \"bac`\" şeklinde oluşturmanız `upper` metodundaki değişimi görebilmeniz için daha iyi olacaktır.\n",
    "\n",
    "Bütün metodlardaki değişimin gözle görülür şekilde değişimi beklenmektedir.\n",
    "\n",
    "\n",
    "1- capitalize(), lower(), upper(), swapcase(), title(), replace()\n",
    "\n",
    "2- endswith(), startswith(), find(), index(), count()\n",
    "\n",
    "3- split(), strip(), join(), islower(), isalpha(), isdigit()\n",
    "\n",
    "\n",
    "Yukarıdaki `string` metodlarındaki değişimleri görebildiğimiz bir program yazınız.\n"
   ]
  },
  {
   "cell_type": "code",
   "execution_count": 31,
   "metadata": {},
   "outputs": [
    {
     "name": "stdout",
     "output_type": "stream",
     "text": [
      "capitalize(): Tuğberk çivici\n",
      "lower() : tuğberk çivici\n",
      "upper() : TUĞBERK ÇIVICI\n",
      "swapcase() : TUĞBERK ÇIVICI\n",
      "title() : Tuğberk Çivici\n",
      "replace() : tuğberk çivici\n",
      "endswith() : False\n",
      "startswith(): False\n",
      "find() method: 5\n",
      "index() : 12\n",
      "count() : 1\n",
      "split(): ['tuğberk', 'çivici']\n",
      "strip() : tuğberk çivici\n",
      "join() : t-u-ğ-b-e-r-k- -ç-i-v-i-c-i\n",
      "islower() : True\n",
      "isalpha() : False\n",
      "isdigit() : False\n"
     ]
    }
   ],
   "source": [
    "x = \"tuğberk çivici\"\n",
    "\n",
    "x1 = x.capitalize()\n",
    "print(\"capitalize():\", x1)\n",
    "\n",
    "x2 = x.lower()\n",
    "print(\"lower() :\", x2)\n",
    "\n",
    "x3 = x.upper()\n",
    "print(\"upper() :\", x3)\n",
    "\n",
    "x4 = x.swapcase()\n",
    "print(\"swapcase() :\", x4)\n",
    "\n",
    "x5 = x.title()\n",
    "print(\"title() :\", x5)\n",
    "\n",
    "x6 = x.replace(\"tugberk\", \"civici\")\n",
    "print(\"replace() :\", x6)\n",
    "\n",
    "x7 = x.endswith(\"tugberk\")\n",
    "print(\"endswith() :\", x7)\n",
    "\n",
    "x8 = x.startswith(\"civici\")\n",
    "print(\"startswith():\", x8)\n",
    "\n",
    "x9 = x.find(\"r\")\n",
    "print(\"find() method:\", x9)\n",
    "\n",
    "x10 = x.index(\"c\")\n",
    "print(\"index() :\", x10)\n",
    "\n",
    "x11 = x.count(\"t\")\n",
    "print(\"count() :\", x11)\n",
    "\n",
    "x12 = x.split(\" \")\n",
    "print(\"split():\", x12)\n",
    "\n",
    "x13 = x.strip(\"4\")\n",
    "print(\"strip() :\", x13)\n",
    "\n",
    "x14 = \"-\".join(x)\n",
    "print(\"join() :\", x14)\n",
    "\n",
    "x15 = x.islower()\n",
    "print(\"islower() :\", x15)\n",
    "\n",
    "x16 = x.isalpha()\n",
    "print(\"isalpha() :\", x16)\n",
    "\n",
    "x17 = x.isdigit()\n",
    "print(\"isdigit() :\", x17)\n"
   ]
  }
 ],
 "metadata": {
  "kernelspec": {
   "display_name": "Python 3.10.5 64-bit",
   "language": "python",
   "name": "python3"
  },
  "language_info": {
   "codemirror_mode": {
    "name": "ipython",
    "version": 3
   },
   "file_extension": ".py",
   "mimetype": "text/x-python",
   "name": "python",
   "nbconvert_exporter": "python",
   "pygments_lexer": "ipython3",
   "version": "3.11.1"
  },
  "orig_nbformat": 4,
  "vscode": {
   "interpreter": {
    "hash": "5026d2d6e7aaaaba093def813beadff083d8733e4a511af01735cbabd156995d"
   }
  }
 },
 "nbformat": 4,
 "nbformat_minor": 2
}
