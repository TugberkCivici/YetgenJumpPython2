{
 "cells": [
  {
   "attachments": {},
   "cell_type": "markdown",
   "metadata": {},
   "source": [
    "# Problem 1"
   ]
  },
  {
   "cell_type": "code",
   "execution_count": null,
   "metadata": {},
   "outputs": [],
   "source": [
    "# 1 - numpy kütüphanesini import edin\n",
    "\n",
    "# 2 - 0 ile 10 arasında 5 sayıdan oluşan matris üretin\n",
    "\n",
    "# 3 - matris'in boyutunu öğrenin\n",
    "\n",
    "# 4 - matris'i yeniden boyutlandırın\n",
    "\n",
    "# 5 - matris'in boyut sayısını öğrenin\n"
   ]
  },
  {
   "cell_type": "code",
   "execution_count": 8,
   "metadata": {},
   "outputs": [
    {
     "ename": "SyntaxError",
     "evalue": "invalid syntax. Perhaps you forgot a comma? (177033955.py, line 11)",
     "output_type": "error",
     "traceback": [
      "\u001b[1;36m  Cell \u001b[1;32mIn[8], line 11\u001b[1;36m\u001b[0m\n\u001b[1;33m    [3 0 5 3 6]\u001b[0m\n\u001b[1;37m     ^\u001b[0m\n\u001b[1;31mSyntaxError\u001b[0m\u001b[1;31m:\u001b[0m invalid syntax. Perhaps you forgot a comma?\n"
     ]
    }
   ],
   "source": [
    "import numpy as np\n",
    "\n",
    "a = np.random.randint(0, 10, 5)\n",
    "print(a)\n",
    "\n",
    "print(a.ndim)\n",
    "print(a.reshape(5, 1))\n",
    "\n",
    "print(a.size)\n",
    "\n",
    "\n",
    "\n"
   ]
  },
  {
   "attachments": {},
   "cell_type": "markdown",
   "metadata": {},
   "source": [
    "# Problem 2"
   ]
  },
  {
   "cell_type": "code",
   "execution_count": null,
   "metadata": {},
   "outputs": [],
   "source": [
    "# 1 - 0 ile 10 arasında bulunan tek sayılardan oluşan matris üretin\n",
    "\n",
    "# 2 - Oluşturduğunuz matrisi parçalayın\n",
    "\n",
    "# 3 - Parçalanmış matrisleri birleştirin\n"
   ]
  },
  {
   "cell_type": "code",
   "execution_count": 10,
   "metadata": {},
   "outputs": [
    {
     "ename": "NameError",
     "evalue": "name 'np' is not defined",
     "output_type": "error",
     "traceback": [
      "\u001b[1;31m---------------------------------------------------------------------------\u001b[0m",
      "\u001b[1;31mNameError\u001b[0m                                 Traceback (most recent call last)",
      "Cell \u001b[1;32mIn[10], line 1\u001b[0m\n\u001b[1;32m----> 1\u001b[0m b \u001b[39m=\u001b[39m np\u001b[39m.\u001b[39marange(\u001b[39m1\u001b[39m,\u001b[39m11\u001b[39m, \u001b[39m2\u001b[39m)\n\u001b[0;32m      2\u001b[0m \u001b[39mprint\u001b[39m(b)\n\u001b[0;32m      3\u001b[0m c,d,e \u001b[39m=\u001b[39m np\u001b[39m.\u001b[39msplit(b,[\u001b[39m2\u001b[39m,\u001b[39m4\u001b[39m])\n",
      "\u001b[1;31mNameError\u001b[0m: name 'np' is not defined"
     ]
    }
   ],
   "source": [
    "b = np.arange(1,11, 2)\n",
    "print(b)\n",
    "c,d,e = np.split(b,[2,4])\n",
    "print(c)\n",
    "print(d)\n",
    "print(e)\n",
    "print(np.concatenate([c,d,e]))"
   ]
  },
  {
   "attachments": {},
   "cell_type": "markdown",
   "metadata": {},
   "source": [
    "# Problem 3"
   ]
  },
  {
   "cell_type": "code",
   "execution_count": null,
   "metadata": {},
   "outputs": [],
   "source": [
    "# 1 - 5 ile 100 arasında ikişer ikişer atlayarak rastgele 10 sayıdan oluşan matris üretin\n",
    "\n",
    "# 2 - matris'in özelliklerini inceleyin\n"
   ]
  },
  {
   "cell_type": "code",
   "execution_count": 11,
   "metadata": {},
   "outputs": [
    {
     "ename": "NameError",
     "evalue": "name 'np' is not defined",
     "output_type": "error",
     "traceback": [
      "\u001b[1;31m---------------------------------------------------------------------------\u001b[0m",
      "\u001b[1;31mNameError\u001b[0m                                 Traceback (most recent call last)",
      "Cell \u001b[1;32mIn[11], line 1\u001b[0m\n\u001b[1;32m----> 1\u001b[0m f \u001b[39m=\u001b[39m np\u001b[39m.\u001b[39mrandom\u001b[39m.\u001b[39mrandint(\u001b[39m5\u001b[39m,\u001b[39m100\u001b[39m,size\u001b[39m=\u001b[39m\u001b[39m10\u001b[39m)\n\u001b[0;32m      2\u001b[0m f\n\u001b[0;32m      3\u001b[0m \u001b[39mprint\u001b[39m(f\u001b[39m.\u001b[39mndim)\n",
      "\u001b[1;31mNameError\u001b[0m: name 'np' is not defined"
     ]
    }
   ],
   "source": [
    "f = np.random.randint(5,100,size=10)\n",
    "f\n",
    "print(f.ndim)\n",
    "print(f.size)\n",
    "print(f.dtype)\n",
    "print(f.shape)"
   ]
  }
 ],
 "metadata": {
  "kernelspec": {
   "display_name": "Python 3",
   "language": "python",
   "name": "python3"
  },
  "language_info": {
   "codemirror_mode": {
    "name": "ipython",
    "version": 3
   },
   "file_extension": ".py",
   "mimetype": "text/x-python",
   "name": "python",
   "nbconvert_exporter": "python",
   "pygments_lexer": "ipython3",
   "version": "3.11.1"
  },
  "orig_nbformat": 4,
  "vscode": {
   "interpreter": {
    "hash": "5026d2d6e7aaaaba093def813beadff083d8733e4a511af01735cbabd156995d"
   }
  }
 },
 "nbformat": 4,
 "nbformat_minor": 2
}
